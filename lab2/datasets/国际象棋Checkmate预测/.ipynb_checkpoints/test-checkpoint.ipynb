{
 "cells": [
  {
   "cell_type": "code",
   "execution_count": 1,
   "metadata": {},
   "outputs": [],
   "source": [
    "import numpy as np\n",
    "import pandas as pd\n",
    "originFeature = ['WKC', 'WKR', 'WRC', 'WRR', 'BKC', 'BKR', 'winstep']\n",
    "trainset = pd.read_csv( open(\"./trainset.csv\") , \n",
    "                        header = 0                  ,\n",
    "                        names  = originFeature,\n",
    "                       encoding=\"gbk\"\n",
    "                        )"
   ]
  },
  {
   "cell_type": "code",
   "execution_count": 2,
   "metadata": {
    "scrolled": true
   },
   "outputs": [
    {
     "ename": "SyntaxError",
     "evalue": "EOL while scanning string literal (<ipython-input-2-ebbd5f55615c>, line 6)",
     "output_type": "error",
     "traceback": [
      "\u001b[1;36m  File \u001b[1;32m\"<ipython-input-2-ebbd5f55615c>\"\u001b[1;36m, line \u001b[1;32m6\u001b[0m\n\u001b[1;33m    ep')\u001b[0m\n\u001b[1;37m        ^\u001b[0m\n\u001b[1;31mSyntaxError\u001b[0m\u001b[1;31m:\u001b[0m EOL while scanning string literal\n"
     ]
    }
   ],
   "source": [
    "# pd.DataFrame(np.array(trainset),columns  = originFeature,)\n",
    "# trainset.loc[trainset['WKC'] == 'a']\n",
    "# a = pd.concat([trainset['WKC'],trainset['winstep']],axis=1)\n",
    "# a.drop(columns  ='winstep')\n",
    "# a.values.unique()\n",
    "# pd.DataFrame(np.array(trainset['winstep']))[0].unique()\n",
    "# trainset['winstep'][1]\n",
    "for i in range(trainset.shape[0]):\n",
    "    print(trainset.iloc[i])\n",
    "    print(i)\n",
    "    input()\n"
   ]
  },
  {
   "cell_type": "code",
   "execution_count": 114,
   "metadata": {},
   "outputs": [
    {
     "data": {
      "text/plain": [
       "'a'"
      ]
     },
     "execution_count": 114,
     "metadata": {},
     "output_type": "execute_result"
    }
   ],
   "source": [
    "# a = np.array([1,2,3,1])\n",
    "# a.count(1)\n",
    "a = {1:'a'}\n",
    "a[1]"
   ]
  }
 ],
 "metadata": {
  "kernelspec": {
   "display_name": "Python 3",
   "language": "python",
   "name": "python3"
  },
  "language_info": {
   "codemirror_mode": {
    "name": "ipython",
    "version": 3
   },
   "file_extension": ".py",
   "mimetype": "text/x-python",
   "name": "python",
   "nbconvert_exporter": "python",
   "pygments_lexer": "ipython3",
   "version": "3.7.3"
  }
 },
 "nbformat": 4,
 "nbformat_minor": 2
}
