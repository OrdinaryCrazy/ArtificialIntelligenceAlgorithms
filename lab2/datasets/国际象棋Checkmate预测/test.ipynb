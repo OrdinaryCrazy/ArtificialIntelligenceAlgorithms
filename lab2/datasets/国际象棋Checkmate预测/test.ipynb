{
 "cells": [
  {
   "cell_type": "code",
   "execution_count": 2,
   "metadata": {},
   "outputs": [],
   "source": [
    "import numpy as np\n",
    "import pandas as pd\n",
    "originFeature = ['WKC', 'WKR', 'WRC', 'WRR', 'BKC', 'BKR', 'winstep']\n",
    "trainset = pd.read_csv( open(\"./trainset.csv\") , \n",
    "                        header = 0                  ,\n",
    "                        names  = originFeature,\n",
    "                       encoding=\"gbk\"\n",
    "                        )"
   ]
  },
  {
   "cell_type": "code",
   "execution_count": 24,
   "metadata": {
    "scrolled": true
   },
   "outputs": [
    {
     "data": {
      "text/plain": [
       "22445"
      ]
     },
     "execution_count": 24,
     "metadata": {},
     "output_type": "execute_result"
    }
   ],
   "source": [
    "# pd.DataFrame(np.array(trainset),columns  = originFeature,)\n",
    "# trainset.loc[trainset['WKC'] == 'a']\n",
    "# a = pd.concat([trainset['WKC'],trainset['winstep']],axis=1)\n",
    "# a.drop(columns  ='winstep')\n",
    "# a.values.unique()\n",
    "# pd.DataFrame(np.array(trainset['winstep']))[0]\n",
    "# trainset['winstep'][1]\n",
    "# for i in range(trainset.shape[0]):\n",
    "#     print(trainset.iloc[i])\n",
    "#     print(i)\n",
    "#     input()\n",
    "# a = trainset['winstep'] \n",
    "# a == 'draw'\n",
    "# a.replace([True,False],[1,-1])\n",
    "len(trainset['winstep'].values)"
   ]
  },
  {
   "cell_type": "code",
   "execution_count": 20,
   "metadata": {},
   "outputs": [
    {
     "data": {
      "text/plain": [
       "2"
      ]
     },
     "execution_count": 20,
     "metadata": {},
     "output_type": "execute_result"
    }
   ],
   "source": [
    "# a = np.array([1,2,3,1])\n",
    "# a.count(1)\n",
    "# a = {1:'a'}\n",
    "# a[1]\n",
    "a = [1,2]\n",
    "a.append(3)\n",
    "a.index(max(a))"
   ]
  }
 ],
 "metadata": {
  "kernelspec": {
   "display_name": "Python 3",
   "language": "python",
   "name": "python3"
  },
  "language_info": {
   "codemirror_mode": {
    "name": "ipython",
    "version": 3
   },
   "file_extension": ".py",
   "mimetype": "text/x-python",
   "name": "python",
   "nbconvert_exporter": "python",
   "pygments_lexer": "ipython3",
   "version": "3.7.3"
  }
 },
 "nbformat": 4,
 "nbformat_minor": 2
}
