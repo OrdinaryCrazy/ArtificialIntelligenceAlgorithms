{
 "cells": [
  {
   "cell_type": "code",
   "execution_count": 2,
   "metadata": {},
   "outputs": [],
   "source": [
    "import numpy as np\n",
    "import pandas as pd\n",
    "originFeature = ['WKC', 'WKR', 'WRC', 'WRR', 'BKC', 'BKR', 'winstep']\n",
    "trainset = pd.read_csv( open(\"./trainset.csv\") , \n",
    "                        header = 0                  ,\n",
    "                        names  = originFeature,\n",
    "                       encoding=\"gbk\"\n",
    "                        )"
   ]
  },
  {
   "cell_type": "code",
   "execution_count": 27,
   "metadata": {
    "scrolled": true
   },
   "outputs": [
    {
     "data": {
      "text/plain": [
       "array(['draw', 'eight', 'eleven', 'fifteen', 'five', 'four', 'fourteen',\n",
       "       'nine', 'one', 'seven', 'six', 'sixteen', 'ten', 'thirteen',\n",
       "       'three', 'twelve', 'two', 'zero'], dtype=object)"
      ]
     },
     "execution_count": 27,
     "metadata": {},
     "output_type": "execute_result"
    }
   ],
   "source": [
    "# pd.DataFrame(np.array(trainset),columns  = originFeature,)\n",
    "# trainset.loc[trainset['WKC'] == 'a']\n",
    "# a = pd.concat([trainset['WKC'],trainset['winstep']],axis=1)\n",
    "# a.drop(columns  ='winstep')\n",
    "# a.values.unique()\n",
    "# pd.DataFrame(np.array(trainset['winstep']))[0]\n",
    "a = trainset['winstep']\n",
    "a.unique()\n",
    "# trainset['winstep'][1]\n",
    "# for i in range(trainset.shape[0]):\n",
    "#     print(trainset.iloc[i])\n",
    "#     print(i)\n",
    "#     input()\n",
    "# a = trainset['winstep'] \n",
    "# a == 'draw'\n",
    "# a.replace([True,False],[1,-1])\n",
    "# len(trainset['winstep'].values)"
   ]
  },
  {
   "cell_type": "code",
   "execution_count": 29,
   "metadata": {},
   "outputs": [
    {
     "data": {
      "text/plain": [
       "2"
      ]
     },
     "execution_count": 29,
     "metadata": {},
     "output_type": "execute_result"
    }
   ],
   "source": [
    "# a = np.array([1,2,3,1])\n",
    "# a.count(1)\n",
    "# a = {1:'a'}\n",
    "# a[1]\n",
    "a = [1,2]\n",
    "a.append(3)\n",
    "a.index(max(a))"
   ]
  },
  {
   "cell_type": "code",
   "execution_count": 49,
   "metadata": {},
   "outputs": [
    {
     "data": {
      "text/plain": [
       "matrix([[8.3]])"
      ]
     },
     "execution_count": 49,
     "metadata": {},
     "output_type": "execute_result"
    }
   ],
   "source": [
    "a = np.mat([1,2])\n",
    "a * a.T + 3.3"
   ]
  },
  {
   "cell_type": "code",
   "execution_count": 56,
   "metadata": {},
   "outputs": [
    {
     "data": {
      "text/plain": [
       "array([ 1,  4,  9, 16, 25])"
      ]
     },
     "execution_count": 56,
     "metadata": {},
     "output_type": "execute_result"
    }
   ],
   "source": [
    "np.multiply(np.array([1,2,3,4,5]), np.array([1,2,3,4,5]))"
   ]
  },
  {
   "cell_type": "code",
   "execution_count": 59,
   "metadata": {},
   "outputs": [
    {
     "data": {
      "text/plain": [
       "3.3"
      ]
     },
     "execution_count": 59,
     "metadata": {},
     "output_type": "execute_result"
    }
   ],
   "source": [
    "max(2.2,3.3)"
   ]
  },
  {
   "cell_type": "code",
   "execution_count": 65,
   "metadata": {},
   "outputs": [
    {
     "data": {
      "text/plain": [
       "(array([0, 2, 4], dtype=int64),)"
      ]
     },
     "execution_count": 65,
     "metadata": {},
     "output_type": "execute_result"
    }
   ],
   "source": [
    "np.nonzero((np.array([1,2,3,-2,3]) > 0) * (np.array([1,-2,3,-2,3]) > 0))"
   ]
  },
  {
   "cell_type": "code",
   "execution_count": 67,
   "metadata": {},
   "outputs": [
    {
     "data": {
      "text/plain": [
       "matrix([[0.],\n",
       "        [0.],\n",
       "        [0.],\n",
       "        [0.],\n",
       "        [0.]])"
      ]
     },
     "execution_count": 67,
     "metadata": {},
     "output_type": "execute_result"
    }
   ],
   "source": [
    "np.mat(np.zeros((5, 1)))"
   ]
  },
  {
   "cell_type": "code",
   "execution_count": 71,
   "metadata": {},
   "outputs": [
    {
     "data": {
      "text/plain": [
       "34450.0"
      ]
     },
     "execution_count": 71,
     "metadata": {},
     "output_type": "execute_result"
    }
   ],
   "source": [
    "2500 * 6.89 * 2"
   ]
  }
 ],
 "metadata": {
  "kernelspec": {
   "display_name": "Python 3",
   "language": "python",
   "name": "python3"
  },
  "language_info": {
   "codemirror_mode": {
    "name": "ipython",
    "version": 3
   },
   "file_extension": ".py",
   "mimetype": "text/x-python",
   "name": "python",
   "nbconvert_exporter": "python",
   "pygments_lexer": "ipython3",
   "version": "3.7.3"
  }
 },
 "nbformat": 4,
 "nbformat_minor": 2
}
